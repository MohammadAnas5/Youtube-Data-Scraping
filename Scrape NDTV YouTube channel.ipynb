{
 "cells": [
  {
   "cell_type": "code",
   "execution_count": 2,
   "id": "9e129d1a",
   "metadata": {
    "collapsed": true
   },
   "outputs": [
    {
     "name": "stderr",
     "output_type": "stream",
     "text": [
      "C:\\Users\\hp\\AppData\\Local\\Temp\\ipykernel_12060\\3949444130.py:13: DeprecationWarning: executable_path has been deprecated, please pass in a Service object\n",
      "  driver = webdriver.Chrome(ChromeDriverManager().install())\n"
     ]
    },
    {
     "ename": "TimeoutException",
     "evalue": "Message: script timeout\n  (Session info: chrome=109.0.5414.120)\nStacktrace:\nBacktrace:\n\t(No symbol) [0x00CA6643]\n\t(No symbol) [0x00C3BE21]\n\t(No symbol) [0x00B3D960]\n\t(No symbol) [0x00BA7A23]\n\t(No symbol) [0x00B8FD7C]\n\t(No symbol) [0x00BA6B09]\n\t(No symbol) [0x00B8FB76]\n\t(No symbol) [0x00B649C1]\n\t(No symbol) [0x00B65E5D]\n\tGetHandleVerifier [0x00F1A142+2497106]\n\tGetHandleVerifier [0x00F485D3+2686691]\n\tGetHandleVerifier [0x00F4BB9C+2700460]\n\tGetHandleVerifier [0x00D53B10+635936]\n\t(No symbol) [0x00C44A1F]\n\t(No symbol) [0x00C4A418]\n\t(No symbol) [0x00C4A505]\n\t(No symbol) [0x00C5508B]\n\tBaseThreadInitThunk [0x764500F9+25]\n\tRtlGetAppContainerNamedObjectPath [0x77C67BBE+286]\n\tRtlGetAppContainerNamedObjectPath [0x77C67B8E+238]\n",
     "output_type": "error",
     "traceback": [
      "\u001b[1;31m---------------------------------------------------------------------------\u001b[0m",
      "\u001b[1;31mTimeoutException\u001b[0m                          Traceback (most recent call last)",
      "Cell \u001b[1;32mIn[2], line 22\u001b[0m\n\u001b[0;32m     20\u001b[0m href_list\u001b[38;5;241m=\u001b[39m[]\n\u001b[0;32m     21\u001b[0m \u001b[38;5;28;01mfor\u001b[39;00m i \u001b[38;5;129;01min\u001b[39;00m book_categories: \n\u001b[1;32m---> 22\u001b[0m     href_list\u001b[38;5;241m.\u001b[39mappend(\u001b[43mi\u001b[49m\u001b[38;5;241;43m.\u001b[39;49m\u001b[43mget_attribute\u001b[49m\u001b[43m(\u001b[49m\u001b[38;5;124;43m\"\u001b[39;49m\u001b[38;5;124;43mhref\u001b[39;49m\u001b[38;5;124;43m\"\u001b[39;49m\u001b[43m)\u001b[49m)  \n",
      "File \u001b[1;32m~\\AppData\\Local\\Programs\\Python\\Python311\\Lib\\site-packages\\selenium\\webdriver\\remote\\webelement.py:177\u001b[0m, in \u001b[0;36mWebElement.get_attribute\u001b[1;34m(self, name)\u001b[0m\n\u001b[0;32m    175\u001b[0m \u001b[38;5;28;01mif\u001b[39;00m getAttribute_js \u001b[38;5;129;01mis\u001b[39;00m \u001b[38;5;28;01mNone\u001b[39;00m:\n\u001b[0;32m    176\u001b[0m     _load_js()\n\u001b[1;32m--> 177\u001b[0m attribute_value \u001b[38;5;241m=\u001b[39m \u001b[38;5;28;43mself\u001b[39;49m\u001b[38;5;241;43m.\u001b[39;49m\u001b[43mparent\u001b[49m\u001b[38;5;241;43m.\u001b[39;49m\u001b[43mexecute_script\u001b[49m\u001b[43m(\u001b[49m\n\u001b[0;32m    178\u001b[0m \u001b[43m    \u001b[49m\u001b[38;5;124;43mf\u001b[39;49m\u001b[38;5;124;43m\"\u001b[39;49m\u001b[38;5;124;43m/* getAttribute */return (\u001b[39;49m\u001b[38;5;132;43;01m{\u001b[39;49;00m\u001b[43mgetAttribute_js\u001b[49m\u001b[38;5;132;43;01m}\u001b[39;49;00m\u001b[38;5;124;43m).apply(null, arguments);\u001b[39;49m\u001b[38;5;124;43m\"\u001b[39;49m\u001b[43m,\u001b[49m\u001b[43m \u001b[49m\u001b[38;5;28;43mself\u001b[39;49m\u001b[43m,\u001b[49m\u001b[43m \u001b[49m\u001b[43mname\u001b[49m\n\u001b[0;32m    179\u001b[0m \u001b[43m\u001b[49m\u001b[43m)\u001b[49m\n\u001b[0;32m    180\u001b[0m \u001b[38;5;28;01mreturn\u001b[39;00m attribute_value\n",
      "File \u001b[1;32m~\\AppData\\Local\\Programs\\Python\\Python311\\Lib\\site-packages\\selenium\\webdriver\\remote\\webdriver.py:500\u001b[0m, in \u001b[0;36mWebDriver.execute_script\u001b[1;34m(self, script, *args)\u001b[0m\n\u001b[0;32m    497\u001b[0m converted_args \u001b[38;5;241m=\u001b[39m \u001b[38;5;28mlist\u001b[39m(args)\n\u001b[0;32m    498\u001b[0m command \u001b[38;5;241m=\u001b[39m Command\u001b[38;5;241m.\u001b[39mW3C_EXECUTE_SCRIPT\n\u001b[1;32m--> 500\u001b[0m \u001b[38;5;28;01mreturn\u001b[39;00m \u001b[38;5;28;43mself\u001b[39;49m\u001b[38;5;241;43m.\u001b[39;49m\u001b[43mexecute\u001b[49m\u001b[43m(\u001b[49m\u001b[43mcommand\u001b[49m\u001b[43m,\u001b[49m\u001b[43m \u001b[49m\u001b[43m{\u001b[49m\u001b[38;5;124;43m\"\u001b[39;49m\u001b[38;5;124;43mscript\u001b[39;49m\u001b[38;5;124;43m\"\u001b[39;49m\u001b[43m:\u001b[49m\u001b[43m \u001b[49m\u001b[43mscript\u001b[49m\u001b[43m,\u001b[49m\u001b[43m \u001b[49m\u001b[38;5;124;43m\"\u001b[39;49m\u001b[38;5;124;43margs\u001b[39;49m\u001b[38;5;124;43m\"\u001b[39;49m\u001b[43m:\u001b[49m\u001b[43m \u001b[49m\u001b[43mconverted_args\u001b[49m\u001b[43m}\u001b[49m\u001b[43m)\u001b[49m[\u001b[38;5;124m\"\u001b[39m\u001b[38;5;124mvalue\u001b[39m\u001b[38;5;124m\"\u001b[39m]\n",
      "File \u001b[1;32m~\\AppData\\Local\\Programs\\Python\\Python311\\Lib\\site-packages\\selenium\\webdriver\\remote\\webdriver.py:440\u001b[0m, in \u001b[0;36mWebDriver.execute\u001b[1;34m(self, driver_command, params)\u001b[0m\n\u001b[0;32m    438\u001b[0m response \u001b[38;5;241m=\u001b[39m \u001b[38;5;28mself\u001b[39m\u001b[38;5;241m.\u001b[39mcommand_executor\u001b[38;5;241m.\u001b[39mexecute(driver_command, params)\n\u001b[0;32m    439\u001b[0m \u001b[38;5;28;01mif\u001b[39;00m response:\n\u001b[1;32m--> 440\u001b[0m     \u001b[38;5;28;43mself\u001b[39;49m\u001b[38;5;241;43m.\u001b[39;49m\u001b[43merror_handler\u001b[49m\u001b[38;5;241;43m.\u001b[39;49m\u001b[43mcheck_response\u001b[49m\u001b[43m(\u001b[49m\u001b[43mresponse\u001b[49m\u001b[43m)\u001b[49m\n\u001b[0;32m    441\u001b[0m     response[\u001b[38;5;124m\"\u001b[39m\u001b[38;5;124mvalue\u001b[39m\u001b[38;5;124m\"\u001b[39m] \u001b[38;5;241m=\u001b[39m \u001b[38;5;28mself\u001b[39m\u001b[38;5;241m.\u001b[39m_unwrap_value(response\u001b[38;5;241m.\u001b[39mget(\u001b[38;5;124m\"\u001b[39m\u001b[38;5;124mvalue\u001b[39m\u001b[38;5;124m\"\u001b[39m, \u001b[38;5;28;01mNone\u001b[39;00m))\n\u001b[0;32m    442\u001b[0m     \u001b[38;5;28;01mreturn\u001b[39;00m response\n",
      "File \u001b[1;32m~\\AppData\\Local\\Programs\\Python\\Python311\\Lib\\site-packages\\selenium\\webdriver\\remote\\errorhandler.py:245\u001b[0m, in \u001b[0;36mErrorHandler.check_response\u001b[1;34m(self, response)\u001b[0m\n\u001b[0;32m    243\u001b[0m         alert_text \u001b[38;5;241m=\u001b[39m value[\u001b[38;5;124m\"\u001b[39m\u001b[38;5;124malert\u001b[39m\u001b[38;5;124m\"\u001b[39m]\u001b[38;5;241m.\u001b[39mget(\u001b[38;5;124m\"\u001b[39m\u001b[38;5;124mtext\u001b[39m\u001b[38;5;124m\"\u001b[39m)\n\u001b[0;32m    244\u001b[0m     \u001b[38;5;28;01mraise\u001b[39;00m exception_class(message, screen, stacktrace, alert_text)  \u001b[38;5;66;03m# type: ignore[call-arg]  # mypy is not smart enough here\u001b[39;00m\n\u001b[1;32m--> 245\u001b[0m \u001b[38;5;28;01mraise\u001b[39;00m exception_class(message, screen, stacktrace)\n",
      "\u001b[1;31mTimeoutException\u001b[0m: Message: script timeout\n  (Session info: chrome=109.0.5414.120)\nStacktrace:\nBacktrace:\n\t(No symbol) [0x00CA6643]\n\t(No symbol) [0x00C3BE21]\n\t(No symbol) [0x00B3D960]\n\t(No symbol) [0x00BA7A23]\n\t(No symbol) [0x00B8FD7C]\n\t(No symbol) [0x00BA6B09]\n\t(No symbol) [0x00B8FB76]\n\t(No symbol) [0x00B649C1]\n\t(No symbol) [0x00B65E5D]\n\tGetHandleVerifier [0x00F1A142+2497106]\n\tGetHandleVerifier [0x00F485D3+2686691]\n\tGetHandleVerifier [0x00F4BB9C+2700460]\n\tGetHandleVerifier [0x00D53B10+635936]\n\t(No symbol) [0x00C44A1F]\n\t(No symbol) [0x00C4A418]\n\t(No symbol) [0x00C4A505]\n\t(No symbol) [0x00C5508B]\n\tBaseThreadInitThunk [0x764500F9+25]\n\tRtlGetAppContainerNamedObjectPath [0x77C67BBE+286]\n\tRtlGetAppContainerNamedObjectPath [0x77C67B8E+238]\n"
     ]
    }
   ],
   "source": [
    "from selenium import webdriver\n",
    "from selenium.webdriver.common.by import By\n",
    "from selenium.webdriver.support.ui import WebDriverWait\n",
    "from selenium.webdriver.support import expected_conditions as EC\n",
    "import pandas as pd \n",
    "import numpy as np \n",
    "import time \n",
    "from webdriver_manager.chrome import ChromeDriverManager \n",
    "\n",
    "\n",
    "\n",
    "# Create an instance of the WebDriver\n",
    "driver = webdriver.Chrome(ChromeDriverManager().install()) \n",
    "page_url = \"https://www.youtube.com/@NDTV/videos\"  \n",
    "driver.get(page_url)\n",
    "driver.implicitly_wait(20) \n",
    "time.sleep(340) \n",
    "# Scroll down\n",
    "book_categories = driver.find_elements(By.ID, \"video-title-link\") \n",
    "href_list=[]\n",
    "for i in book_categories: \n",
    "    href_list.append(i.get_attribute(\"href\"))  "
   ]
  },
  {
   "cell_type": "code",
   "execution_count": 3,
   "id": "aae6b1d4",
   "metadata": {},
   "outputs": [
    {
     "data": {
      "text/plain": [
       "1501"
      ]
     },
     "execution_count": 3,
     "metadata": {},
     "output_type": "execute_result"
    }
   ],
   "source": [
    "len(book_categories) "
   ]
  },
  {
   "cell_type": "code",
   "execution_count": 6,
   "id": "82bcb2e9",
   "metadata": {
    "scrolled": true
   },
   "outputs": [
    {
     "data": {
      "text/plain": [
       "'https://www.youtube.com/watch?v=w_iAXsx4-D8'"
      ]
     },
     "execution_count": 6,
     "metadata": {},
     "output_type": "execute_result"
    }
   ],
   "source": [
    "href_list[0] "
   ]
  },
  {
   "cell_type": "code",
   "execution_count": 34,
   "id": "864862c4",
   "metadata": {},
   "outputs": [],
   "source": [
    "from selenium import webdriver \n",
    "from selenium.webdriver.common.by import By\n",
    "from selenium.webdriver.support.ui import WebDriverWait\n",
    "from selenium.webdriver.support import expected_conditions as EC\n",
    "\n",
    "title = [] \n",
    "likes = []\n",
    "summary_caption = [] \n",
    "views = [] \n",
    "date = [] \n",
    "no_comment = []\n",
    "header_tags = [] \n",
    "top_comments_dictionaries = [] \n",
    "subs = []\n",
    "duration = []\n",
    "\n",
    "# navigate to a YouTube each video page\n",
    "for i in href_list:\n",
    "    driver.get(i)\n",
    "    driver.implicitly_wait(10) \n",
    "    # wait for the \"Show More\" button to be visible\n",
    "    show_more_button = WebDriverWait(driver, 20).until( EC.visibility_of_element_located((By.CSS_SELECTOR, \"#expand[aria-disabled='false']\"))) \n",
    "\n",
    "    # click the \"Show More\" button\n",
    "    show_more_button.click()   \n",
    "\n",
    "    try:\n",
    "        all_data = driver.find_elements(By.CLASS_NAME, \"style-scope ytd-watch-metadata\")\n",
    "        x = all_data[0].text \n",
    "        all_text = x.split('\\n')\n",
    "        title.append(all_text[1]) \n",
    "        likes.append(all_text[5])\n",
    "        subs.append(all_text[3])\n",
    "        summary_caption.append(all_text[8:-2]) \n",
    "        y = all_text[7].split('  ')\n",
    "        views.append(y[0])\n",
    "        date.append(y[1]) \n",
    "        header_tags.append(all_text[0])\n",
    "        duara = driver.find_elements(By.CLASS_NAME, \"ytp-time-duration\")  \n",
    "        duration.append(duara[0].text)\n",
    "        comment_data = driver.find_elements(By.ID, \"count\")  \n",
    "        no_comment.append(comment_data[3].text)\n",
    "        top_comments = driver.find_elements(By.CLASS_NAME, \"style-scope ytd-comment-renderer\")   \n",
    "        all_comment = {'name_or_email':[],'time':[],'comment':[],'no_of_reply':[]}\n",
    "        for i in top_comments:\n",
    "            all_comment['name_or_email'].append((i.text.split('\\n')[0]))\n",
    "            all_comment['time'].append(i.text.split('\\n')[1])\n",
    "            all_comment['comment'].append(i.text.split('\\n')[2])\n",
    "            all_comment['no_of_reply'].append(i.text.split('\\n')[3])\n",
    "        top_comments_dictionaries.append(all_comment)\n",
    "    except Exception:\n",
    "        continue \n"
   ]
  },
  {
   "cell_type": "code",
   "execution_count": 54,
   "id": "562c1eb9",
   "metadata": {},
   "outputs": [],
   "source": [
    "a = {\n",
    "    \"title\":title,\n",
    "    \"subscriber\":subs,\n",
    "    'views':views,\n",
    "    \"likes\":likes,\n",
    "    'summary_caption':summary_caption\n",
    "} "
   ]
  },
  {
   "cell_type": "code",
   "execution_count": 53,
   "id": "4e148617",
   "metadata": {},
   "outputs": [
    {
     "data": {
      "text/plain": [
       "28"
      ]
     },
     "execution_count": 53,
     "metadata": {},
     "output_type": "execute_result"
    }
   ],
   "source": [
    "len(header_tags)          "
   ]
  },
  {
   "cell_type": "code",
   "execution_count": 55,
   "id": "e13da3d2",
   "metadata": {},
   "outputs": [],
   "source": [
    "df = pd.DataFrame(a) "
   ]
  },
  {
   "cell_type": "code",
   "execution_count": 62,
   "id": "3633d811",
   "metadata": {},
   "outputs": [],
   "source": [
    "def get_view(list):\n",
    "    return list[0].split('views')[0] "
   ]
  },
  {
   "cell_type": "code",
   "execution_count": 92,
   "id": "da748086",
   "metadata": {},
   "outputs": [],
   "source": [
    "df['views'] = df['summary_caption'].apply(get_view)  "
   ]
  },
  {
   "cell_type": "code",
   "execution_count": 89,
   "id": "677f715e",
   "metadata": {},
   "outputs": [],
   "source": [
    "def get_date(list):\n",
    "    \n",
    "    return list[0].split('views')[1:] "
   ]
  },
  {
   "cell_type": "code",
   "execution_count": 90,
   "id": "ab4ac26a",
   "metadata": {},
   "outputs": [],
   "source": [
    "df['date'] = df['summary_caption'].apply(get_date)  "
   ]
  },
  {
   "cell_type": "code",
   "execution_count": 94,
   "id": "ac433b26",
   "metadata": {},
   "outputs": [],
   "source": [
    "def summary(list):\n",
    "    return list[1:] "
   ]
  },
  {
   "cell_type": "code",
   "execution_count": 95,
   "id": "3645d594",
   "metadata": {},
   "outputs": [],
   "source": [
    "df['summary_caption'] = df['summary_caption'].apply(summary) "
   ]
  },
  {
   "cell_type": "code",
   "execution_count": 96,
   "id": "de97d1aa",
   "metadata": {
    "scrolled": true
   },
   "outputs": [
    {
     "data": {
      "text/html": [
       "<div>\n",
       "<style scoped>\n",
       "    .dataframe tbody tr th:only-of-type {\n",
       "        vertical-align: middle;\n",
       "    }\n",
       "\n",
       "    .dataframe tbody tr th {\n",
       "        vertical-align: top;\n",
       "    }\n",
       "\n",
       "    .dataframe thead th {\n",
       "        text-align: right;\n",
       "    }\n",
       "</style>\n",
       "<table border=\"1\" class=\"dataframe\">\n",
       "  <thead>\n",
       "    <tr style=\"text-align: right;\">\n",
       "      <th></th>\n",
       "      <th>title</th>\n",
       "      <th>subscriber</th>\n",
       "      <th>views</th>\n",
       "      <th>likes</th>\n",
       "      <th>summary_caption</th>\n",
       "      <th>date</th>\n",
       "    </tr>\n",
       "  </thead>\n",
       "  <tbody>\n",
       "    <tr>\n",
       "      <th>0</th>\n",
       "      <td>Adani Row Causes Protests, Disruptions In Parl...</td>\n",
       "      <td>12.3M subscribers</td>\n",
       "      <td>3,172</td>\n",
       "      <td>49</td>\n",
       "      <td>[Both parliament houses were adjourned till lu...</td>\n",
       "      <td>[  Feb 3, 2023]</td>\n",
       "    </tr>\n",
       "    <tr>\n",
       "      <th>1</th>\n",
       "      <td>BJP-backed Nominee Loses In Devendra Fadnavis ...</td>\n",
       "      <td>12.3M subscribers</td>\n",
       "      <td>1,205</td>\n",
       "      <td>16</td>\n",
       "      <td>[In a major electoral setback for the BJP in o...</td>\n",
       "      <td>[  Feb 3, 2023]</td>\n",
       "    </tr>\n",
       "    <tr>\n",
       "      <th>2</th>\n",
       "      <td>Flight To Kozhikode Returns To Abu Dhabi As Fl...</td>\n",
       "      <td>12.3M subscribers</td>\n",
       "      <td>600</td>\n",
       "      <td>4</td>\n",
       "      <td>[A Kozhikode-bound Air India Express flight fr...</td>\n",
       "      <td>[  Feb 3, 2023]</td>\n",
       "    </tr>\n",
       "    <tr>\n",
       "      <th>3</th>\n",
       "      <td>Zelensky Says Ukraine Should Start EU Entry Ta...</td>\n",
       "      <td>12.3M subscribers</td>\n",
       "      <td>425</td>\n",
       "      <td>5</td>\n",
       "      <td>[Ukrainian President Volodymyr Zelensky said T...</td>\n",
       "      <td>[  Feb 3, 2023]</td>\n",
       "    </tr>\n",
       "    <tr>\n",
       "      <th>4</th>\n",
       "      <td>\"Those On Duty Didn't Check Because...\": On Pa...</td>\n",
       "      <td>12.3M subscribers</td>\n",
       "      <td>600</td>\n",
       "      <td>3</td>\n",
       "      <td>[The suicide bomber who killed 101 people insi...</td>\n",
       "      <td>[  Feb 3, 2023]</td>\n",
       "    </tr>\n",
       "    <tr>\n",
       "      <th>...</th>\n",
       "      <td>...</td>\n",
       "      <td>...</td>\n",
       "      <td>...</td>\n",
       "      <td>...</td>\n",
       "      <td>...</td>\n",
       "      <td>...</td>\n",
       "    </tr>\n",
       "    <tr>\n",
       "      <th>863</th>\n",
       "      <td>Swiggy Lays Off 380 Employees, CEO Says \"Extre...</td>\n",
       "      <td>12.3M subscribers</td>\n",
       "      <td>4,796</td>\n",
       "      <td>31</td>\n",
       "      <td>[Food delivery platform Swiggy on Friday said ...</td>\n",
       "      <td>[  Jan 20, 2023]</td>\n",
       "    </tr>\n",
       "    <tr>\n",
       "      <th>864</th>\n",
       "      <td>Pee-Gate: Air India Fined 30 Lakhs, Pilot's Li...</td>\n",
       "      <td>12.3M subscribers</td>\n",
       "      <td>31,888</td>\n",
       "      <td>63</td>\n",
       "      <td>[Air India has been fined Rs 30 lakh and the l...</td>\n",
       "      <td>[  Jan 20, 2023]</td>\n",
       "    </tr>\n",
       "    <tr>\n",
       "      <th>865</th>\n",
       "      <td>Sack Wrestling Body Chief, Say Athletes, He Re...</td>\n",
       "      <td>12.3M subscribers</td>\n",
       "      <td>3,325</td>\n",
       "      <td>24</td>\n",
       "      <td>[The protesting wrestlers are insistent that t...</td>\n",
       "      <td>[  Jan 20, 2023]</td>\n",
       "    </tr>\n",
       "    <tr>\n",
       "      <th>866</th>\n",
       "      <td>Sachin Pilot vs Ashok Gehlot, Now Over BJP's V...</td>\n",
       "      <td>12.3M subscribers</td>\n",
       "      <td>14,802</td>\n",
       "      <td>71</td>\n",
       "      <td>[In an escalating row between the Congress's t...</td>\n",
       "      <td>[  Jan 20, 2023]</td>\n",
       "    </tr>\n",
       "    <tr>\n",
       "      <th>867</th>\n",
       "      <td>India's Assurance Over Lanka Economic Recovery...</td>\n",
       "      <td>12.3M subscribers</td>\n",
       "      <td>1,111</td>\n",
       "      <td>14</td>\n",
       "      <td>[External Affairs Minister S Jaishankar on Thu...</td>\n",
       "      <td>[  Jan 20, 2023]</td>\n",
       "    </tr>\n",
       "  </tbody>\n",
       "</table>\n",
       "<p>868 rows × 6 columns</p>\n",
       "</div>"
      ],
      "text/plain": [
       "                                                 title         subscriber  \\\n",
       "0    Adani Row Causes Protests, Disruptions In Parl...  12.3M subscribers   \n",
       "1    BJP-backed Nominee Loses In Devendra Fadnavis ...  12.3M subscribers   \n",
       "2    Flight To Kozhikode Returns To Abu Dhabi As Fl...  12.3M subscribers   \n",
       "3    Zelensky Says Ukraine Should Start EU Entry Ta...  12.3M subscribers   \n",
       "4    \"Those On Duty Didn't Check Because...\": On Pa...  12.3M subscribers   \n",
       "..                                                 ...                ...   \n",
       "863  Swiggy Lays Off 380 Employees, CEO Says \"Extre...  12.3M subscribers   \n",
       "864  Pee-Gate: Air India Fined 30 Lakhs, Pilot's Li...  12.3M subscribers   \n",
       "865  Sack Wrestling Body Chief, Say Athletes, He Re...  12.3M subscribers   \n",
       "866  Sachin Pilot vs Ashok Gehlot, Now Over BJP's V...  12.3M subscribers   \n",
       "867  India's Assurance Over Lanka Economic Recovery...  12.3M subscribers   \n",
       "\n",
       "       views likes                                    summary_caption  \\\n",
       "0     3,172     49  [Both parliament houses were adjourned till lu...   \n",
       "1     1,205     16  [In a major electoral setback for the BJP in o...   \n",
       "2       600      4  [A Kozhikode-bound Air India Express flight fr...   \n",
       "3       425      5  [Ukrainian President Volodymyr Zelensky said T...   \n",
       "4       600      3  [The suicide bomber who killed 101 people insi...   \n",
       "..       ...   ...                                                ...   \n",
       "863   4,796     31  [Food delivery platform Swiggy on Friday said ...   \n",
       "864  31,888     63  [Air India has been fined Rs 30 lakh and the l...   \n",
       "865   3,325     24  [The protesting wrestlers are insistent that t...   \n",
       "866  14,802     71  [In an escalating row between the Congress's t...   \n",
       "867   1,111     14  [External Affairs Minister S Jaishankar on Thu...   \n",
       "\n",
       "                 date  \n",
       "0     [  Feb 3, 2023]  \n",
       "1     [  Feb 3, 2023]  \n",
       "2     [  Feb 3, 2023]  \n",
       "3     [  Feb 3, 2023]  \n",
       "4     [  Feb 3, 2023]  \n",
       "..                ...  \n",
       "863  [  Jan 20, 2023]  \n",
       "864  [  Jan 20, 2023]  \n",
       "865  [  Jan 20, 2023]  \n",
       "866  [  Jan 20, 2023]  \n",
       "867  [  Jan 20, 2023]  \n",
       "\n",
       "[868 rows x 6 columns]"
      ]
     },
     "execution_count": 96,
     "metadata": {},
     "output_type": "execute_result"
    }
   ],
   "source": [
    "df "
   ]
  },
  {
   "cell_type": "code",
   "execution_count": 97,
   "id": "883bd245",
   "metadata": {},
   "outputs": [],
   "source": [
    "df.to_csv('ndtv.csv')  "
   ]
  },
  {
   "cell_type": "code",
   "execution_count": null,
   "id": "b458bf80",
   "metadata": {},
   "outputs": [],
   "source": []
  }
 ],
 "metadata": {
  "kernelspec": {
   "display_name": "Python 3 (ipykernel)",
   "language": "python",
   "name": "python3"
  },
  "language_info": {
   "codemirror_mode": {
    "name": "ipython",
    "version": 3
   },
   "file_extension": ".py",
   "mimetype": "text/x-python",
   "name": "python",
   "nbconvert_exporter": "python",
   "pygments_lexer": "ipython3",
   "version": "3.11.1"
  }
 },
 "nbformat": 4,
 "nbformat_minor": 5
}
